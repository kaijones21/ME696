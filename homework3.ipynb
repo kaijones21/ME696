{
 "cells": [
  {
   "cell_type": "markdown",
   "metadata": {},
   "source": [
    "# ME 696 Homework 3\n",
    "\n",
    "## Particle Filter on a Linear-Gaussian System \n",
    "\n",
    "In this exercise,  you are asked to design a particle filter for a simple dynamical system: a car with linear dynamics moving in a linear environment.  Assume $\\Delta t=1$ for simplicity.  The position of the car at time $t$ is given by $x$.  Its velocity is $\\dot{x}_t$, and its acceleration is $\\ddot{x}_t$.  Suppose the acceleration is set randomly at each point in time, according to a Gaussian with zero mean and covariance $\\sigma^2=1$.\n",
    "\n",
    "(a)  What is a minimal state vector for the particle filter such that the resulting system is Markovian? \n",
    "\n",
    "(b)  For your state vector, design the state transition probability $p(x_t|u_t,x_{t−1})$. *Hint:  This transition function will possess linear matrices $A$ and $B$ and a noise covariance $R$*.\n",
    "\n",
    "(c) Implement the state prediction step of the particle filter in your programming language of choice.\n",
    "Assuming we know at time $t = 0$, $x_0 = \\dot{x}_0 = \\ddot{x}_0 = 0$. Plot the state distributions for times\n",
    "$t = 1,2,\\dots,5$.\n",
    "\n",
    "(d) For each value of $t$, plot the joint posterior over $x$ and $\\dot{x}$ where $x$ is the horizontal axis and $\\dot{x}$ is the vertical axis. For each posterior, you are asked to plot an uncertainty ellipse, which is the\n",
    "ellipse of points that are one standard deviation away from the mean.\n",
    "\n",
    "(e) What will happen to the correlation between $x_t$ and $\\dot{x}_t$ as $t\\rightarrow \\infty$.\n",
    "\n",
    "We will now add measurements to our particle filter. Suppose at time $t$, we can receive a noisy\n",
    "observation of $x$. In expectation, our sensor measures the true location. However, this measurement is\n",
    "corrupted by Gaussian noise with covariance $\\sigma^2 = 10$.\n",
    "\n",
    "(f) Define the measurement model. *Hint: You need to define a matrix $C$ and another matrix $Q$*.\n",
    "\n",
    "(g) Implement the measurement update. Suppose at time $t = 5$, we observe a measurement $z =\n",
    "5$. State the parameters of the Gaussian approximation of the particle distribution before and\n",
    "after updating the particle filter. Plot the uncertainty ellipse before and after incorporating the\n",
    "measurement.\n"
   ]
  },
  {
   "cell_type": "markdown",
   "metadata": {},
   "source": [
    "### (a)  What is a minimal state vector for the particle filter such that the resulting system is Markovian? \n",
    "\n",
    "In order for the system to be Markovian, the current state should only depend on its previous state(s). The following is a state vector for a car with linear dynamics moving in a linear environment: \n",
    "\n",
    "<center>\n",
    "$\n",
    "    \\begin{equation}\n",
    "        \\mathbf{x}_t = \\begin{pmatrix} x' \\\\ \\dot{x}' \\end{pmatrix}\n",
    "    \\end{equation}\n",
    "$\n",
    "</center>"
   ]
  },
  {
   "cell_type": "markdown",
   "metadata": {},
   "source": [
    "### (b)  For your state vector, design the state transition probability $p(x_t|u_t,x_{t−1})$. *Hint:  This transition function will possess linear matrices $A$ and $B$ and a noise covariance $R$*.\n",
    "\n",
    "<center>\n",
    "$\n",
    "    \\begin{equation}\n",
    "        \\mathbf{x}_t = \\begin{pmatrix} x' \\\\ \\dot{x}' \\\\ \\ddot{x}' \\end{pmatrix} \n",
    "        = \\begin{pmatrix} x \\\\ \\dot{x} \\\\ \\ddot{x} \\end{pmatrix} + \\begin{pmatrix} 0 \\\\ x_{t} - x_{t-1} \\\\ \n",
    "        \\dot{x}_{t} - \\dot{x}_{t-1} \\end{pmatrix} \n",
    "        = \\begin{pmatrix} x \\\\ \\dot{x} \\\\ \\ddot{x} \\end{pmatrix} + \\begin{pmatrix} 0 \\\\ x_{t} - x_{t-1} \\\\ \n",
    "        x{t} - x_{t-1} - (x_{t-1} - x_{t-1}) \\end{pmatrix} \n",
    "        = \\begin{pmatrix} x \\\\ \\dot{x} \\\\ \\ddot{x} \\end{pmatrix} + \\begin{pmatrix} 0 \\\\ x_{t} - x_{t-1} \\\\ \n",
    "        x{t} -2x_{t-1} + x_{t-1}) \\end{pmatrix}\n",
    "    \\end{equation}\n",
    "$\n",
    "</center>"
   ]
  }
 ],
 "metadata": {
  "kernelspec": {
   "display_name": "Python 3",
   "language": "python",
   "name": "python3"
  },
  "language_info": {
   "codemirror_mode": {
    "name": "ipython",
    "version": 3
   },
   "file_extension": ".py",
   "mimetype": "text/x-python",
   "name": "python",
   "nbconvert_exporter": "python",
   "pygments_lexer": "ipython3",
   "version": "3.7.3"
  }
 },
 "nbformat": 4,
 "nbformat_minor": 4
}
