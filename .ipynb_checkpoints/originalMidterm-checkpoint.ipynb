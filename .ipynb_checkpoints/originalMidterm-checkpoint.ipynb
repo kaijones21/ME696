{
 "cells": [
  {
   "cell_type": "markdown",
   "metadata": {},
   "source": [
    "# ME 696 Introduction to Autonomous Mobile Robots - Fall 2020\n",
    "## Exam 1 - Due Sunday, Nov 8, 2020\n",
    "----\n",
    "#### In this exam, we will implement a state estimator for a mobile robot operating in a 2D world using both the extended Kalman filter and the particle filter. You should submit a single PDF that contains all your answers, steps, codes (with comments), and plots (with sufficient and clear annotations).  You can use either MATLAB or Python for your simulation.\n",
    "\n",
    "----\n",
    "The robot's motion can be modeled as follows\n",
    "\n",
    "$$ \\begin{bmatrix} x_{k+1} \\\\ y_{k+1} \\\\ \\theta_{k+1} \\end{bmatrix} = \\begin{bmatrix} x_{k} + v\\cos(\\theta)\\Delta t \\\\ y_{k} + v\\sin(\\theta) \\Delta t \\\\ \\theta_{t} + \\omega \\Delta t \\end{bmatrix}, $$  \n",
    "where $v$ is the forward speed and $\\omega$ is the angular velocity. The robot is equipted with a sensor that can measure the relative range, $d$, with respect to a known landmark located at the origin, i.e., $[m_x, m_y]^\\top = [0, 0]^\\top$. \n",
    "\n",
    "Assume that we know the following:  \n",
    "1. The initial state estimate and its covariance matrix are  \n",
    "\n",
    "$$ \\boldsymbol{\\mu}_0 = \\begin{bmatrix} 10\\cos(\\pi/24)\\\\ 10\\sin(\\pi/24)\\\\ \\pi/2 \\end{bmatrix}, \\quad \\Sigma_0 = \\begin{bmatrix} 1 & 0 & 0\\\\ 0 & 4 & 0 \\\\ 0 & 0 & 0.25 \\end{bmatrix}. $$  \n",
    "\n",
    "2. The robot has a sensor to provide noisy measurements at 1Hz ($\\Delta t = 1s$) of its forward speed that follows a Gaussian distribution $v\\sim \\mathcal{N}(2.5, 1^2)$ and its angular velocity that also follows a Gaussian distribution $\\omega\\sim \\mathcal{N}(\\frac{\\pi}{12}, 0.1^2)$. \n",
    "3. The relative range measurements with respect to the known landmark are available at 0.1Hz (every 10 seconds) and follow a Guassian distribution $d\\sim \\mathcal{N}(10, 1^2)$.\n",
    "\n",
    "----\n",
    "### Questions\n",
    "1. Design and implement an extended Kalman filter (EKF) to estimate the states of the robots with the following steps:  \n",
    "    `[10 points]` 1.1. Derive the linearized motion model and show detailed steps of how you obtained the Jacobian matrices $A$, $B$, and motion noise covariance $Q$.  \n",
    "    `[10 points]` 1.2. Derive the nonlinear motion model for $d$ and linearized it to obtain the Jacobian matrix $H$ and the measurement noise covariance $R$.   \n",
    "    `[15 points]` 1.3. Implement the EKF in your program of choise. For $t=[0, 100]$, plot the estimated states along with their 1-$\\sigma$ bounds. You should have three separate plots, one for each state. \n",
    "2. Assume that we do not know the location of the landmark and want to solve this SLAM problem:  \n",
    "    `[ 5 points]` 2.1. Define the new state vector for this SLAM problem.   \n",
    "    `[10 points]` 2.2. Derive the motion model and its linearization.   \n",
    "    `[10 points]` 2.3. Derive the measurement model and its linearizaiton.   \n",
    "    `[Bonus 10 points]` 2.4. Implement an EKF to solve this SLAM problem and discuss your finding. \n",
    "\n",
    "3. Now let's go back to the cased where the landmark location is known. Design and implemeng a particle filter with 1000 particles to estimate teh states of the robots with the following steps:  \n",
    "    `[10 points]` 3.1. Generate particles for the initial state estimate, show particle set project on to the $x$-$y$ plane, and draw the 1-$\\sigma$ sample ellipse.   \n",
    "    `[10 points]` 3.2. Plot the sample distribution and the 1-$\\sigma$ sample ellipse on the $x$-$y$ plane at $t=5$.  \n",
    "    `[15 points]` 3.3. Implement the particle filter where resampling happens everytime a range measurement is available (i.e., every 10 seconds). Plot the sample distribution and the 1-$\\sigma$ sample ellipse on the $x$-$y$ plane at $t=0$ both before and after the update step.  \n",
    "    `[ 5 points]` 3.4. For $t=[0, 100]$, use Gaussian approxiamtions of the particle set to plot the estimated states along with their 1-$\\sigma$ bounds. You should have three separate plots, one for each state. \n",
    "    \n",
    "#### `Note`: You should make sure that your heading angle is always in between $[0, 2\\pi]$."
   ]
  }
 ],
 "metadata": {
  "kernelspec": {
   "display_name": "Python 3",
   "language": "python",
   "name": "python3"
  },
  "language_info": {
   "codemirror_mode": {
    "name": "ipython",
    "version": 3
   },
   "file_extension": ".py",
   "mimetype": "text/x-python",
   "name": "python",
   "nbconvert_exporter": "python",
   "pygments_lexer": "ipython3",
   "version": "3.8.1"
  }
 },
 "nbformat": 4,
 "nbformat_minor": 4
}
