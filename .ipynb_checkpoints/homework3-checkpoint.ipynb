{
 "cells": [
  {
   "cell_type": "markdown",
   "metadata": {},
   "source": [
    "# ME 696 Homework 3\n",
    "\n",
    "## Particle Filter on a Linear-Gaussian System \n",
    "\n",
    "In this exercise,  you are asked to design a particle filter for a simple dynamical system: a car with linear dynamics moving in a linear environment.  Assume $\\Delta t=1$ for simplicity.  The position of the car at time $t$ is given by $x$.  Its velocity is $\\dot{x}_t$, and its acceleration is $\\ddot{x}_t$.  Suppose the acceleration is set randomly at each point in time, according to a Gaussian with zero mean and covariance $\\sigma^2=1$.\n",
    "\n",
    "(a)  What is a minimal state vector for the particle filter such that the resulting system is Markovian? \n",
    "\n",
    "(b)  For your state vector, design the state transition probability $p(x_t|u_t,x_{t−1})$. *Hint:  This transition function will possess linear matrices $A$ and $B$ and a noise covariance $R$*.\n",
    "\n",
    "(c) Implement the state prediction step of the particle filter in your programming language of choice.\n",
    "Assuming we know at time $t = 0$, $x_0 = \\dot{x}_0 = \\ddot{x}_0 = 0$. Plot the state distributions for times\n",
    "$t = 1,2,\\dots,5$.\n",
    "\n",
    "(d) For each value of $t$, plot the joint posterior over $x$ and $\\dot{x}$ where $x$ is the horizontal axis and $\\dot{x}$ is the vertical axis. For each posterior, you are asked to plot an uncertainty ellipse, which is the\n",
    "ellipse of points that are one standard deviation away from the mean.\n",
    "\n",
    "(e) What will happen to the correlation between $x_t$ and $\\dot{x}_t$ as $t\\rightarrow \\infty$.\n",
    "\n",
    "We will now add measurements to our particle filter. Suppose at time $t$, we can receive a noisy\n",
    "observation of $x$. In expectation, our sensor measures the true location. However, this measurement is\n",
    "corrupted by Gaussian noise with covariance $\\sigma^2 = 10$.\n",
    "\n",
    "(f) Define the measurement model. *Hint: You need to define a matrix $C$ and another matrix $Q$*.\n",
    "\n",
    "(g) Implement the measurement update. Suppose at time $t = 5$, we observe a measurement $z =\n",
    "5$. State the parameters of the Gaussian approximation of the particle distribution before and\n",
    "after updating the particle filter. Plot the uncertainty ellipse before and after incorporating the\n",
    "measurement.\n",
    "\n",
    "---"
   ]
  },
  {
   "cell_type": "markdown",
   "metadata": {},
   "source": [
    "### (a)  What is a minimal state vector for the particle filter such that the resulting system is Markovian? \n",
    "\n",
    "In order for the system to be Markovian, the current state should only depend on its previous state(s). Since the car has linear dynamics moving in a linear environment, we can write the dynamics as follows: \n",
    "<center>\n",
    "$\n",
    "    \\begin{equation}\n",
    "        x_{t} = x_{t-1} + \\dot{x}_t \\Delta t + \\frac{1}{2} \\ddot{x} (\\Delta t)^2\n",
    "    \\end{equation}\n",
    "$\n",
    "</center> \n",
    "\n",
    "<center>\n",
    "$\n",
    "    \\begin{equation}\n",
    "        \\dot{x}_t = \\dot{x}_{t-1} + \\ddot{x} \\Delta t\n",
    "    \\end{equation}\n",
    "$\n",
    "</center>\n",
    "The acceleration of the car essentially controls the other state variables (velocity and position). Therefore, the acceleration term is the control and the minimum state vector is: \n",
    "<center>\n",
    "    \\begin{equation}\n",
    "        \\mathbf{x}_t = \\begin{bmatrix} x_{t} \\\\ \\dot{x}_{t} \\end{bmatrix}\n",
    "    \\end{equation}\n",
    "</center>\n",
    "\n",
    "---"
   ]
  },
  {
   "cell_type": "markdown",
   "metadata": {},
   "source": [
    "### (b)  For your state vector, design the state transition probability $p(x_t|u_t,x_{t−1})$. *Hint:  This transition function will possess linear matrices $A$ and $B$ and a noise covariance $R$*.\n",
    "\n",
    "The state transition function has the form $\\mathbf{x}_t = A\\mathbf{x}_{t-1} + B\\mathbf{u}_{t-1} + w_{t-1}$ where, \n",
    "\n",
    "<center>\n",
    "    $A \\triangleq \\begin{bmatrix} 1 & \\Delta t \\\\ 0 & 1 \\end{bmatrix}$, <br> <br>\n",
    "    $B \\triangleq \\begin{bmatrix} \\frac{1}{2} (\\Delta t)^2 \\\\ \\Delta t \\end{bmatrix}$, <br> <br>\n",
    "    $\\mathbf{x}_t \\triangleq \\begin{bmatrix} x_t \\\\ \\dot{x}_t \\end{bmatrix}$, and<br> <br>\n",
    "    $\\mathbf{u}_t \\triangleq \\ddot{x}_t \\sim \\mathcal{N}(0, \\sigma^2)$ <br> <br>\n",
    "</center>\n",
    "\n",
    "Since $\\Delta t = 1$, \n",
    "<center>\n",
    "    $A = \\begin{bmatrix} 1 & 1 \\\\ 0 & 1 \\end{bmatrix}$, <br> <br>\n",
    "    $B = \\begin{bmatrix} \\frac{1}{2} \\\\ 1 \\end{bmatrix}$\n",
    "</center>\n",
    "\n",
    "The error noise is a function of the acceleration term since the acceleration is modeled by a zero-mean Gaussian with covariance $\\sigma^2$. To satisfy the required dimensions for the covariance matrix, R is multiplied by the quadratic form of B. With the definitions defined above, the full state transition function is: \n",
    "\n",
    "<center>\n",
    "    $\n",
    "    \\mathbf{x}_t = \\begin{bmatrix} 1 & 1 \\\\ 0 & 1 \\end{bmatrix}\\mathbf{x}_{t-1} + \n",
    "    \\begin{bmatrix} \\frac{1}{2} \\\\ 1 \\end{bmatrix}\\ddot{x}_{t-1} + \n",
    "    \\begin{bmatrix} \\frac{1}{2}\\\\ 1 \\end{bmatrix}[\\frac{1}{2} \\ 1]\\sigma^2\n",
    "    $\n",
    "</center> <br> \n",
    "\n",
    "<center>\n",
    "    $\n",
    "    \\mathbf{x}_t = \\begin{bmatrix} 1 & 1 \\\\ 0 & 1 \\end{bmatrix}\\mathbf{x}_{t-1} + \n",
    "    \\begin{bmatrix} \\frac{1}{2} \\\\ 1 \\end{bmatrix}\\ddot{x}_{t-1} + \n",
    "    \\underbrace{\\begin{bmatrix} \\frac{1}{4} & \\frac{1}{2} \\\\ \\frac{1}{2} & 1 \\end{bmatrix}}_{R}\n",
    "    $\n",
    "</center>\n",
    "\n",
    "1. Initialize M number of zeros\n",
    "2. Draw M number of samples\n",
    "3. Predict state x (2x2 times 2xM) = 2xM\n",
    "4. Plug into state function again and repeat\n",
    "\n",
    "\n",
    "The state-transistion probability is: \n",
    "\n",
    "<center>\n",
    "    $\n",
    "    p(\\mathbf{x}_t|\\mathbf{u}_t,\\mathbf{x}_{t−1}) = \n",
    "    \\frac{1}{\\sqrt{2\\pi |R|}}exp\\{-\\frac{1}{2}(\\mathbf{x}_t-\\mathbf{x}_{t-1})^T R^{-1}(\\mathbf{x}_t-\\mathbf{x}_{t-1})\\}\n",
    "    $\n",
    "</center>\n",
    "\n",
    "---"
   ]
  },
  {
   "cell_type": "markdown",
   "metadata": {},
   "source": [
    "### (c) Implement the state prediction step of the particle filter in your programming language of choice. Assuming we know at time $t = 0$, $x_0 = \\dot{x}_0 = \\ddot{x}_0 = 0$. Plot the state distributions for times $t = 1,2,\\dots,5$.\n"
   ]
  },
  {
   "cell_type": "code",
   "execution_count": 2,
   "metadata": {},
   "outputs": [],
   "source": [
    "# Import libraries\n",
    "import numpy as np\n",
    "import matplotlib as mpl \n",
    "import matplotlib.pyplot as plt"
   ]
  },
  {
   "cell_type": "code",
   "execution_count": 3,
   "metadata": {},
   "outputs": [],
   "source": [
    "# Functions\n",
    "from matplotlib.patches import Ellipse\n",
    "import matplotlib.transforms as transforms\n",
    "\n",
    "def confidence_ellipse(x, y, ax, n_std=3.0, facecolor='none', **kwargs):\n",
    "    \"\"\"\n",
    "    Create a plot of the covariance confidence ellipse of *x* and *y*.\n",
    "    \n",
    "    Parameters\n",
    "    ----------\n",
    "    x, y : array-like, shape (n, )\n",
    "        Input data.\n",
    "        \n",
    "    ax : matplotlib.axes.Axes\n",
    "        The axes object to draw the ellipse into. \n",
    "        \n",
    "    n_std : float\n",
    "        The number of standard deviations to determine the ellipse's raiuses.\n",
    "        \n",
    "    **kwargs\n",
    "        Forwarded to `-matplotlib.patches.Ellipse`\n",
    "    \n",
    "    Returns\n",
    "    -------\n",
    "    matplotlib.patches.Ellipse\n",
    "    \"\"\"\n",
    "    if x.size != y.size:\n",
    "        raise ValueError(\"x and y must be the same size\")\n",
    "        \n",
    "    cov = np.cov(x,y)\n",
    "    pearson = cov[0, 1]/np.sqrt(cov[0, 0] * cov[1, 1])\n",
    "    # Using a special case to obtain the eigenvalues of this\n",
    "    # two-dimensional dataset.\n",
    "    ell_radius_x = np.sqrt(1 + pearson)\n",
    "    ell_radius_y = np.sqrt(1 - pearson)\n",
    "    ellipse = Ellipse((0, 0), width=ell_radius_x * 2, height=ell_radius_y * 2,\n",
    "                          facecolor=facecolor, **kwargs)\n",
    "    \n",
    "    # Calculating the standard deviation of x from \n",
    "    # the squareroot of the variance and multiplying \n",
    "    # with the given number of standard deviations. \n",
    "    scale_x = np.sqrt(cov[0, 0]) * n_std\n",
    "    mean_x = np.mean(x)\n",
    "    \n",
    "    # calculating the standard deviation of y ...\n",
    "    scale_y = np.sqrt(cov[1, 1]) * n_std\n",
    "    mean_y = np.mean(y)\n",
    "    \n",
    "    transf = transforms.Affine2D() \\\n",
    "        .rotate_deg(45) \\\n",
    "        .scale(scale_x, scale_y) \\\n",
    "        .translate(mean_x, mean_y)\n",
    "    \n",
    "    ellipse.set_transform(transf + ax.transData)\n",
    "    return ax.add_patch(ellipse)\n",
    "\n",
    "def multivariate_gaussian(S, mu, Sigma):\n",
    "    \"\"\"Return the multivariate Gaussian distribution on array pos.\"\"\"\n",
    "    \n",
    "    n = mu.shape[0]\n",
    "    Sigma_det=np.linalg.det(Sigma)\n",
    "    Sigma_inv=np.linalg.inv(Sigma)\n",
    "    N=np.sqrt((2*np.pi)**n*Sigma_det)\n",
    "    # This einsum call calculates (x-mu)T.Sigma-1.(x-mu) in a vectorized\n",
    "    # way across all the input variables.\n",
    "    fac=np.einsum('...k,kl,...l->...',S-mu,Sigma_inv,S-mu)\n",
    "    \n",
    "    return np.exp(-fac/2)/N"
   ]
  },
  {
   "cell_type": "code",
   "execution_count": 202,
   "metadata": {},
   "outputs": [
    {
     "data": {
      "text/plain": [
       "<matplotlib.collections.PathCollection at 0x2036d2190a0>"
      ]
     },
     "execution_count": 202,
     "metadata": {},
     "output_type": "execute_result"
    },
    {
     "data": {
      "image/png": "[encoded data removed]",
      "text/plain": [
       "<Figure size 432x288 with 1 Axes>"
      ]
     },
     "metadata": {
      "needs_background": "light"
     },
     "output_type": "display_data"
    }
   ],
   "source": [
    "mu = np.array([0,0])          # mu\n",
    "R = np.array([[1/4., 1/2.],   # noise covariance matrix\n",
    "              [1/2., 1.001]]) \n",
    "M = 100                       # number of samples\n",
    "t = np.linspace(1, 5, 5)      # time t\n",
    "x_sample = [0]*M              # create a list with M number of samples for position\n",
    "xdot_sample = [0]*M           # create a list with M number of samples for velocity\n",
    "\n",
    "for t in t:\n",
    "    x_sample, xdot_sample = np.random.multivariate_normal(mu,R,M).T\n",
    "\n",
    "fig1 = plt.figure()\n",
    "ax1 = fig1.add_subplot()\n",
    "ax1.scatter(x_sample, xdot_sample, color='r')"
   ]
  },
  {
   "cell_type": "code",
   "execution_count": null,
   "metadata": {},
   "outputs": [],
   "source": []
  }
 ],
 "metadata": {
  "kernelspec": {
   "display_name": "Python 3",
   "language": "python",
   "name": "python3"
  },
  "language_info": {
   "codemirror_mode": {
    "name": "ipython",
    "version": 3
   },
   "file_extension": ".py",
   "mimetype": "text/x-python",
   "name": "python",
   "nbconvert_exporter": "python",
   "pygments_lexer": "ipython3",
   "version": "3.8.1"
  }
 },
 "nbformat": 4,
 "nbformat_minor": 4
}
